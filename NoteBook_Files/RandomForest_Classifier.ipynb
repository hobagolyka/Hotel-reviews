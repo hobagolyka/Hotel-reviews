{
 "cells": [
  {
   "cell_type": "code",
   "execution_count": 3,
   "metadata": {},
   "outputs": [],
   "source": [
    "from sklearn.naive_bayes import GaussianNB\n",
    "from sklearn.naive_bayes import MultinomialNB\n",
    "from sklearn.model_selection import train_test_split\n",
    "from sklearn import metrics\n",
    "import pandas as pd"
   ]
  },
  {
   "cell_type": "code",
   "execution_count": 5,
   "metadata": {},
   "outputs": [
    {
     "data": {
      "text/html": [
       "<div>\n",
       "<style scoped>\n",
       "    .dataframe tbody tr th:only-of-type {\n",
       "        vertical-align: middle;\n",
       "    }\n",
       "\n",
       "    .dataframe tbody tr th {\n",
       "        vertical-align: top;\n",
       "    }\n",
       "\n",
       "    .dataframe thead th {\n",
       "        text-align: right;\n",
       "    }\n",
       "</style>\n",
       "<table border=\"1\" class=\"dataframe\">\n",
       "  <thead>\n",
       "    <tr style=\"text-align: right;\">\n",
       "      <th></th>\n",
       "      <th>aa</th>\n",
       "      <th>aafter</th>\n",
       "      <th>abandoned</th>\n",
       "      <th>ability</th>\n",
       "      <th>abit</th>\n",
       "      <th>able</th>\n",
       "      <th>abnormal</th>\n",
       "      <th>abovemichaeldoll</th>\n",
       "      <th>abrasive</th>\n",
       "      <th>abroad</th>\n",
       "      <th>...</th>\n",
       "      <th>yvonna</th>\n",
       "      <th>zen</th>\n",
       "      <th>zero</th>\n",
       "      <th>zip</th>\n",
       "      <th>zita</th>\n",
       "      <th>zone</th>\n",
       "      <th>zoo</th>\n",
       "      <th>zurich</th>\n",
       "      <th>zzstaff</th>\n",
       "      <th>Reviewer_Score</th>\n",
       "    </tr>\n",
       "  </thead>\n",
       "  <tbody>\n",
       "    <tr>\n",
       "      <th>0</th>\n",
       "      <td>0</td>\n",
       "      <td>0</td>\n",
       "      <td>0</td>\n",
       "      <td>0</td>\n",
       "      <td>0</td>\n",
       "      <td>0</td>\n",
       "      <td>0</td>\n",
       "      <td>0</td>\n",
       "      <td>0</td>\n",
       "      <td>0</td>\n",
       "      <td>...</td>\n",
       "      <td>0</td>\n",
       "      <td>0</td>\n",
       "      <td>0</td>\n",
       "      <td>0</td>\n",
       "      <td>0</td>\n",
       "      <td>0</td>\n",
       "      <td>0</td>\n",
       "      <td>0</td>\n",
       "      <td>0</td>\n",
       "      <td>1</td>\n",
       "    </tr>\n",
       "    <tr>\n",
       "      <th>1</th>\n",
       "      <td>0</td>\n",
       "      <td>0</td>\n",
       "      <td>0</td>\n",
       "      <td>0</td>\n",
       "      <td>0</td>\n",
       "      <td>0</td>\n",
       "      <td>0</td>\n",
       "      <td>0</td>\n",
       "      <td>0</td>\n",
       "      <td>0</td>\n",
       "      <td>...</td>\n",
       "      <td>0</td>\n",
       "      <td>0</td>\n",
       "      <td>0</td>\n",
       "      <td>0</td>\n",
       "      <td>0</td>\n",
       "      <td>0</td>\n",
       "      <td>0</td>\n",
       "      <td>0</td>\n",
       "      <td>0</td>\n",
       "      <td>0</td>\n",
       "    </tr>\n",
       "    <tr>\n",
       "      <th>2</th>\n",
       "      <td>0</td>\n",
       "      <td>0</td>\n",
       "      <td>0</td>\n",
       "      <td>0</td>\n",
       "      <td>0</td>\n",
       "      <td>0</td>\n",
       "      <td>0</td>\n",
       "      <td>0</td>\n",
       "      <td>0</td>\n",
       "      <td>0</td>\n",
       "      <td>...</td>\n",
       "      <td>0</td>\n",
       "      <td>0</td>\n",
       "      <td>0</td>\n",
       "      <td>0</td>\n",
       "      <td>0</td>\n",
       "      <td>0</td>\n",
       "      <td>0</td>\n",
       "      <td>0</td>\n",
       "      <td>0</td>\n",
       "      <td>1</td>\n",
       "    </tr>\n",
       "    <tr>\n",
       "      <th>3</th>\n",
       "      <td>0</td>\n",
       "      <td>0</td>\n",
       "      <td>0</td>\n",
       "      <td>0</td>\n",
       "      <td>0</td>\n",
       "      <td>0</td>\n",
       "      <td>0</td>\n",
       "      <td>0</td>\n",
       "      <td>0</td>\n",
       "      <td>0</td>\n",
       "      <td>...</td>\n",
       "      <td>0</td>\n",
       "      <td>0</td>\n",
       "      <td>0</td>\n",
       "      <td>0</td>\n",
       "      <td>0</td>\n",
       "      <td>0</td>\n",
       "      <td>0</td>\n",
       "      <td>0</td>\n",
       "      <td>0</td>\n",
       "      <td>1</td>\n",
       "    </tr>\n",
       "    <tr>\n",
       "      <th>4</th>\n",
       "      <td>0</td>\n",
       "      <td>0</td>\n",
       "      <td>0</td>\n",
       "      <td>0</td>\n",
       "      <td>0</td>\n",
       "      <td>0</td>\n",
       "      <td>0</td>\n",
       "      <td>0</td>\n",
       "      <td>0</td>\n",
       "      <td>0</td>\n",
       "      <td>...</td>\n",
       "      <td>0</td>\n",
       "      <td>0</td>\n",
       "      <td>0</td>\n",
       "      <td>0</td>\n",
       "      <td>0</td>\n",
       "      <td>0</td>\n",
       "      <td>0</td>\n",
       "      <td>0</td>\n",
       "      <td>0</td>\n",
       "      <td>1</td>\n",
       "    </tr>\n",
       "  </tbody>\n",
       "</table>\n",
       "<p>5 rows × 7721 columns</p>\n",
       "</div>"
      ],
      "text/plain": [
       "   aa  aafter  abandoned  ability  abit  able  abnormal  abovemichaeldoll  \\\n",
       "0   0       0          0        0     0     0         0                 0   \n",
       "1   0       0          0        0     0     0         0                 0   \n",
       "2   0       0          0        0     0     0         0                 0   \n",
       "3   0       0          0        0     0     0         0                 0   \n",
       "4   0       0          0        0     0     0         0                 0   \n",
       "\n",
       "   abrasive  abroad       ...        yvonna  zen  zero  zip  zita  zone  zoo  \\\n",
       "0         0       0       ...             0    0     0    0     0     0    0   \n",
       "1         0       0       ...             0    0     0    0     0     0    0   \n",
       "2         0       0       ...             0    0     0    0     0     0    0   \n",
       "3         0       0       ...             0    0     0    0     0     0    0   \n",
       "4         0       0       ...             0    0     0    0     0     0    0   \n",
       "\n",
       "   zurich  zzstaff  Reviewer_Score  \n",
       "0       0        0               1  \n",
       "1       0        0               0  \n",
       "2       0        0               1  \n",
       "3       0        0               1  \n",
       "4       0        0               1  \n",
       "\n",
       "[5 rows x 7721 columns]"
      ]
     },
     "execution_count": 5,
     "metadata": {},
     "output_type": "execute_result"
    }
   ],
   "source": [
    "df_final = pd.read_csv('../data/clean_data.csv')\n",
    "df_final.head(5)"
   ]
  },
  {
   "cell_type": "code",
   "execution_count": 7,
   "metadata": {},
   "outputs": [
    {
     "name": "stdout",
     "output_type": "stream",
     "text": [
      "(3350, 7720)\n",
      "(1650, 7720)\n",
      "(3350,)\n",
      "(1650,)\n"
     ]
    }
   ],
   "source": [
    "X = df_final.iloc[:, :-1] #grab all cols except for prediction col\n",
    "y = df_final.iloc[:, -1] # grab the prediction col\n",
    "\n",
    "X_train, X_test, Y_train, Y_test = train_test_split(X, y, test_size=0.33, random_state = 5)\n",
    "print(X_train.shape)\n",
    "print(X_test.shape)\n",
    "print(Y_train.shape)\n",
    "print(Y_test.shape)"
   ]
  },
  {
   "cell_type": "code",
   "execution_count": 83,
   "metadata": {},
   "outputs": [],
   "source": [
    "from sklearn.ensemble import RandomForestClassifier\n",
    "\n",
    "# Instantiate model with 1000 decision trees\n",
    "rf = RandomForestClassifier(n_estimators = 200, random_state = 42)\n",
    "# Train the model on training data\n",
    "rf.fit(X_train, Y_train)\n",
    "pred = rf.predict(X_test)"
   ]
  },
  {
   "cell_type": "code",
   "execution_count": 90,
   "metadata": {},
   "outputs": [
    {
     "name": "stdout",
     "output_type": "stream",
     "text": [
      "<class 'numpy.ndarray'>\n",
      "Accuracy Score:  0.8187878787878788\n",
      "F1 Score:  0.7433476394849786\n"
     ]
    },
    {
     "data": {
      "text/plain": [
       "(1650,)"
      ]
     },
     "execution_count": 90,
     "metadata": {},
     "output_type": "execute_result"
    }
   ],
   "source": [
    "import matplotlib\n",
    "from sklearn.metrics import roc_curve\n",
    "import matplotlib.pyplot as plt\n",
    "print(type(Y_test.values))\n",
    "accuracy_score = metrics.accuracy_score(Y_test.values, pred)\n",
    "f1_score = metrics.f1_score(Y_test, pred)\n",
    "fpr, tpr, thresh = metrics.roc_curve(Y_test, pred, pos_label=1, sample_weight=None)\n",
    "print(\"Accuracy Score: \" , str(accuracy_score))\n",
    "print(\"F1 Score: \" , str(f1_score))\n",
    "\n",
    "#fpr, tpr, _ = metrics.roc_curve(y_test,  y_pred_proba)\n",
    "#auc = metrics.roc_auc_score(Y_test, pred)\n",
    "#plt.plot(fpr,tpr,label=\"data 1, auc=\"+str(auc))\n",
    "# fpr_grd, tpr_grd, _ = roc_curve(Y_test, pred)\n",
    "# plt.plot(fpr_grd, tpr_grd, label='GBT')\n",
    "# #plt.legend(loc=4)\n",
    "# plt.show()\n",
    "Y_test.shape"
   ]
  },
  {
   "cell_type": "code",
   "execution_count": 80,
   "metadata": {},
   "outputs": [
    {
     "data": {
      "text/plain": [
       "<matplotlib.axes._subplots.AxesSubplot at 0x1a1b520be0>"
      ]
     },
     "execution_count": 80,
     "metadata": {},
     "output_type": "execute_result"
    },
    {
     "data": {
      "image/png": "[encoded data removed]",
      "text/plain": [
       "<Figure size 432x288 with 1 Axes>"
      ]
     },
     "metadata": {},
     "output_type": "display_data"
    }
   ],
   "source": [
    "#c\n",
    "importances = rf.feature_importances_\n",
    "feature_importances = pd.DataFrame(rf.feature_importances_,\n",
    "                                    columns =['importance']).sort_values('importance', ascending=False)\n",
    "#type(feature_importances)\n",
    "imp_feats = [df_final.columns[2999], df_final.columns[2424], df_final.columns[5744], df_final.columns[3170],\n",
    "            df_final.columns[6419], df_final.columns[4869], df_final.columns[2812], df_final.columns[3911],\n",
    "            df_final.columns[1328], df_final.columns[5041]]\n",
    "feature_importances = feature_importances[:10]\n",
    "feature_importances['words'] = imp_feats\n",
    "feature_importances.plot(x = \"words\", y ='importance', kind=\"bar\")"
   ]
  }
 ],
 "metadata": {
  "kernelspec": {
   "display_name": "Python 3",
   "language": "python",
   "name": "python3"
  },
  "language_info": {
   "codemirror_mode": {
    "name": "ipython",
    "version": 3
   },
   "file_extension": ".py",
   "mimetype": "text/x-python",
   "name": "python",
   "nbconvert_exporter": "python",
   "pygments_lexer": "ipython3",
   "version": "3.6.5"
  }
 },
 "nbformat": 4,
 "nbformat_minor": 2
}
